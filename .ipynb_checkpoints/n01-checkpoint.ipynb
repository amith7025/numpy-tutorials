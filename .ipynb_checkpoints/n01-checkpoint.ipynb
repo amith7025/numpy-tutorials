{
 "cells": [
  {
   "cell_type": "code",
   "execution_count": 57,
   "id": "95c39906-f222-448f-9aa6-afbde26b678d",
   "metadata": {},
   "outputs": [],
   "source": [
    "import numpy as np"
   ]
  },
  {
   "cell_type": "markdown",
   "id": "cc65512c-0f4c-46a4-93e7-e0f8500e5030",
   "metadata": {},
   "source": [
    "basic"
   ]
  },
  {
   "cell_type": "code",
   "execution_count": 58,
   "id": "1a225295-45c7-4e14-a3a5-150644ff7757",
   "metadata": {},
   "outputs": [
    {
     "name": "stdout",
     "output_type": "stream",
     "text": [
      "[1 2 3]\n"
     ]
    }
   ],
   "source": [
    "a = np.array([1,2,3],dtype='int16')\n",
    "print(a)"
   ]
  },
  {
   "cell_type": "code",
   "execution_count": 59,
   "id": "feca7610-d7c1-4ff9-b1d8-49f3b03fb95b",
   "metadata": {},
   "outputs": [
    {
     "name": "stdout",
     "output_type": "stream",
     "text": [
      "[1 2 3]\n"
     ]
    }
   ],
   "source": [
    "d = np.array([1,2,3],dtype='int32')\n",
    "print(d)"
   ]
  },
  {
   "cell_type": "code",
   "execution_count": 60,
   "id": "075a42b6-b81a-4787-af81-e2aa24f24618",
   "metadata": {},
   "outputs": [
    {
     "name": "stdout",
     "output_type": "stream",
     "text": [
      "[[1.  2.  3. ]\n",
      " [3.1 2.3 1.2]\n",
      " [1.  2.  3. ]\n",
      " [3.1 2.3 1.2]]\n"
     ]
    }
   ],
   "source": [
    "b = np.array([[1.0,2.0,3.0],[3.1,2.3,1.2],[1.0,2.0,3.0],[3.1,2.3,1.2]])\n",
    "print(b)"
   ]
  },
  {
   "cell_type": "code",
   "execution_count": 61,
   "id": "8ba05e29-4047-4469-86d7-64925044459c",
   "metadata": {},
   "outputs": [
    {
     "name": "stdout",
     "output_type": "stream",
     "text": [
      "[[[1.  2.  3. ]\n",
      "  [3.1 2.3 1.2]]\n",
      "\n",
      " [[1.  2.  3. ]\n",
      "  [3.1 2.3 1.2]]]\n"
     ]
    }
   ],
   "source": [
    "c = np.array([[[1.0,2.0,3.0],[3.1,2.3,1.2]],[[1.0,2.0,3.0],[3.1,2.3,1.2]]])\n",
    "print(c)"
   ]
  },
  {
   "cell_type": "code",
   "execution_count": 62,
   "id": "d74c2ff3-71bd-46a1-984f-0930a380c948",
   "metadata": {},
   "outputs": [
    {
     "data": {
      "text/plain": [
       "(1, 2, 3)"
      ]
     },
     "execution_count": 62,
     "metadata": {},
     "output_type": "execute_result"
    }
   ],
   "source": [
    "a.ndim,b.ndim,c.ndim"
   ]
  },
  {
   "cell_type": "code",
   "execution_count": 63,
   "id": "7c64c561-0262-4148-846f-0189aab36fcb",
   "metadata": {},
   "outputs": [
    {
     "data": {
      "text/plain": [
       "(3,)"
      ]
     },
     "execution_count": 63,
     "metadata": {},
     "output_type": "execute_result"
    }
   ],
   "source": [
    "a.shape"
   ]
  },
  {
   "cell_type": "code",
   "execution_count": 64,
   "id": "d846a2b2-6db6-4759-88bc-100df11d3c02",
   "metadata": {},
   "outputs": [
    {
     "data": {
      "text/plain": [
       "(4, 3)"
      ]
     },
     "execution_count": 64,
     "metadata": {},
     "output_type": "execute_result"
    }
   ],
   "source": [
    "b.shape"
   ]
  },
  {
   "cell_type": "code",
   "execution_count": 65,
   "id": "ae060f59-9846-41de-b338-1a7d85ef3ee3",
   "metadata": {},
   "outputs": [
    {
     "data": {
      "text/plain": [
       "(2, 2, 3)"
      ]
     },
     "execution_count": 65,
     "metadata": {},
     "output_type": "execute_result"
    }
   ],
   "source": [
    "c.shape"
   ]
  },
  {
   "cell_type": "code",
   "execution_count": 66,
   "id": "8e9f3ee3-c024-4f3c-9c03-31544f801f52",
   "metadata": {},
   "outputs": [
    {
     "data": {
      "text/plain": [
       "dtype('int16')"
      ]
     },
     "execution_count": 66,
     "metadata": {},
     "output_type": "execute_result"
    }
   ],
   "source": [
    "a.dtype"
   ]
  },
  {
   "cell_type": "code",
   "execution_count": 67,
   "id": "efbd811b-c096-475d-9e3c-f944c545162b",
   "metadata": {},
   "outputs": [
    {
     "data": {
      "text/plain": [
       "dtype('float64')"
      ]
     },
     "execution_count": 67,
     "metadata": {},
     "output_type": "execute_result"
    }
   ],
   "source": [
    "b.dtype"
   ]
  },
  {
   "cell_type": "code",
   "execution_count": 68,
   "id": "92bd3881-fc18-4e5d-8a9e-45ee70d6daea",
   "metadata": {},
   "outputs": [
    {
     "data": {
      "text/plain": [
       "2"
      ]
     },
     "execution_count": 68,
     "metadata": {},
     "output_type": "execute_result"
    }
   ],
   "source": [
    "a.itemsize#returns the byte memory"
   ]
  },
  {
   "cell_type": "code",
   "execution_count": 69,
   "id": "d37f244a-3a73-4841-877a-221ab47ed001",
   "metadata": {},
   "outputs": [
    {
     "data": {
      "text/plain": [
       "4"
      ]
     },
     "execution_count": 69,
     "metadata": {},
     "output_type": "execute_result"
    }
   ],
   "source": [
    "d.itemsize"
   ]
  },
  {
   "cell_type": "code",
   "execution_count": 70,
   "id": "32b30c05-41a2-40aa-8fec-cec113c2eb75",
   "metadata": {},
   "outputs": [
    {
     "data": {
      "text/plain": [
       "3"
      ]
     },
     "execution_count": 70,
     "metadata": {},
     "output_type": "execute_result"
    }
   ],
   "source": [
    "a.size #returns the size of the matrix"
   ]
  },
  {
   "cell_type": "code",
   "execution_count": 71,
   "id": "3f2eb40c-f705-43ca-ba22-a809aae74591",
   "metadata": {},
   "outputs": [
    {
     "data": {
      "text/plain": [
       "6"
      ]
     },
     "execution_count": 71,
     "metadata": {},
     "output_type": "execute_result"
    }
   ],
   "source": [
    "total = a.size * a.itemsize\n",
    "total"
   ]
  },
  {
   "cell_type": "code",
   "execution_count": 72,
   "id": "3c1cee89-cc54-40cf-986f-6fe9641aee87",
   "metadata": {},
   "outputs": [
    {
     "data": {
      "text/plain": [
       "6"
      ]
     },
     "execution_count": 72,
     "metadata": {},
     "output_type": "execute_result"
    }
   ],
   "source": [
    "#or\n",
    "a.nbytes"
   ]
  },
  {
   "cell_type": "code",
   "execution_count": 73,
   "id": "28d58104-6396-46ab-8de6-ee5a1360315e",
   "metadata": {},
   "outputs": [
    {
     "data": {
      "text/plain": [
       "96"
      ]
     },
     "execution_count": 73,
     "metadata": {},
     "output_type": "execute_result"
    }
   ],
   "source": [
    "b.nbytes"
   ]
  },
  {
   "cell_type": "markdown",
   "id": "5c467ef8-878e-4136-9551-0e8d3c2f1beb",
   "metadata": {},
   "source": [
    "accessing,changing,rows,colums"
   ]
  },
  {
   "cell_type": "code",
   "execution_count": 74,
   "id": "92baab6b-b4fd-406a-8b27-4a84f49264e4",
   "metadata": {},
   "outputs": [
    {
     "data": {
      "text/plain": [
       "((2, 7),\n",
       " array([[ 1,  2,  3,  4,  5,  6,  7],\n",
       "        [ 8,  9, 10, 11, 12, 13, 14]]))"
      ]
     },
     "execution_count": 74,
     "metadata": {},
     "output_type": "execute_result"
    }
   ],
   "source": [
    "e = np.array([[1,2,3,4,5,6,7],[8,9,10,11,12,13,14]])\n",
    "e.shape,e"
   ]
  },
  {
   "cell_type": "code",
   "execution_count": 75,
   "id": "20fc3b4f-50b6-4428-b6be-f1586c02690b",
   "metadata": {},
   "outputs": [
    {
     "data": {
      "text/plain": [
       "13"
      ]
     },
     "execution_count": 75,
     "metadata": {},
     "output_type": "execute_result"
    }
   ],
   "source": [
    "e[1,5]"
   ]
  },
  {
   "cell_type": "code",
   "execution_count": 76,
   "id": "56d21a70-9d36-450b-bece-bf548c8bb334",
   "metadata": {},
   "outputs": [
    {
     "data": {
      "text/plain": [
       "10"
      ]
     },
     "execution_count": 76,
     "metadata": {},
     "output_type": "execute_result"
    }
   ],
   "source": [
    "e[1,-5]\n"
   ]
  },
  {
   "cell_type": "code",
   "execution_count": 77,
   "id": "504c3427-40cf-4d56-aedf-1d513a785541",
   "metadata": {},
   "outputs": [
    {
     "data": {
      "text/plain": [
       "array([1, 2, 3, 4, 5, 6, 7])"
      ]
     },
     "execution_count": 77,
     "metadata": {},
     "output_type": "execute_result"
    }
   ],
   "source": [
    "e[0,:]"
   ]
  },
  {
   "cell_type": "code",
   "execution_count": 78,
   "id": "307ddf27-679a-4402-88fa-89443fd8943a",
   "metadata": {},
   "outputs": [
    {
     "data": {
      "text/plain": [
       "array([ 8,  9, 10, 11, 12, 13, 14])"
      ]
     },
     "execution_count": 78,
     "metadata": {},
     "output_type": "execute_result"
    }
   ],
   "source": [
    "e[1,:]"
   ]
  },
  {
   "cell_type": "code",
   "execution_count": 79,
   "id": "5aae9a0a-b6ed-4755-952e-d86bd4ca49fd",
   "metadata": {},
   "outputs": [
    {
     "data": {
      "text/plain": [
       "array([2, 4, 6])"
      ]
     },
     "execution_count": 79,
     "metadata": {},
     "output_type": "execute_result"
    }
   ],
   "source": [
    "e[0,1:6:2]\n",
    "# 0 means the row here first row 1 means starting index 6 means ening index,2 means step"
   ]
  },
  {
   "cell_type": "code",
   "execution_count": 80,
   "id": "0e56d29d-4627-4dbd-b457-97618f3cbbaf",
   "metadata": {},
   "outputs": [
    {
     "data": {
      "text/plain": [
       "array([ 3, 10])"
      ]
     },
     "execution_count": 80,
     "metadata": {},
     "output_type": "execute_result"
    }
   ],
   "source": [
    "e[:,2]"
   ]
  },
  {
   "cell_type": "code",
   "execution_count": 81,
   "id": "ec634a19-41d2-4a77-a74a-c29b4be457af",
   "metadata": {},
   "outputs": [
    {
     "data": {
      "text/plain": [
       "(array([[1. , 2. , 3. ],\n",
       "        [3.1, 2.3, 1.2],\n",
       "        [1. , 2. , 3. ],\n",
       "        [3.1, 2.3, 1.2]]),\n",
       " (4, 3))"
      ]
     },
     "execution_count": 81,
     "metadata": {},
     "output_type": "execute_result"
    }
   ],
   "source": [
    "b,b.shape"
   ]
  },
  {
   "cell_type": "code",
   "execution_count": 84,
   "id": "cfc0c560-a6fc-435e-8128-183c063453dc",
   "metadata": {},
   "outputs": [
    {
     "data": {
      "text/plain": [
       "array([2., 3.])"
      ]
     },
     "execution_count": 84,
     "metadata": {},
     "output_type": "execute_result"
    }
   ],
   "source": [
    "b[0,1:3]"
   ]
  },
  {
   "cell_type": "code",
   "execution_count": 86,
   "id": "04b9527b-f2fd-482d-a384-a1b7bb4a11f8",
   "metadata": {},
   "outputs": [
    {
     "data": {
      "text/plain": [
       "array([2, 4, 6])"
      ]
     },
     "execution_count": 86,
     "metadata": {},
     "output_type": "execute_result"
    }
   ],
   "source": [
    "e[0,1:-1:2]"
   ]
  },
  {
   "cell_type": "code",
   "execution_count": 87,
   "id": "50474a19-2402-4b15-a0c7-f338d661902f",
   "metadata": {},
   "outputs": [
    {
     "data": {
      "text/plain": [
       "array([[ 1,  2,  3,  4,  5,  6,  7],\n",
       "       [ 8,  9, 10, 11, 12, 13, 14]])"
      ]
     },
     "execution_count": 87,
     "metadata": {},
     "output_type": "execute_result"
    }
   ],
   "source": [
    "e"
   ]
  },
  {
   "cell_type": "code",
   "execution_count": 89,
   "id": "d5413995-d371-41fc-a232-63e73294e561",
   "metadata": {},
   "outputs": [
    {
     "data": {
      "text/plain": [
       "array([[ 1,  2,  3,  4,  5,  6,  7],\n",
       "       [ 8,  9, 10, 11, 12, 15, 14]])"
      ]
     },
     "execution_count": 89,
     "metadata": {},
     "output_type": "execute_result"
    }
   ],
   "source": [
    "e[1,5] = 15\n",
    "e"
   ]
  },
  {
   "cell_type": "code",
   "execution_count": 90,
   "id": "a8aa20ed-947b-44e0-8ba6-3ad04f8615a9",
   "metadata": {},
   "outputs": [
    {
     "data": {
      "text/plain": [
       "array([[ 1,  2,  3,  4,  5, 20,  7],\n",
       "       [ 8,  9, 10, 11, 12, 20, 14]])"
      ]
     },
     "execution_count": 90,
     "metadata": {},
     "output_type": "execute_result"
    }
   ],
   "source": [
    "e[:,5] = 20\n",
    "e"
   ]
  },
  {
   "cell_type": "code",
   "execution_count": 92,
   "id": "7559dd3d-d9ec-4564-a35f-f231d577aff7",
   "metadata": {},
   "outputs": [
    {
     "data": {
      "text/plain": [
       "array([[  1, 100,  99,   4,   5,  20,   7],\n",
       "       [  8, 100,  99,  11,  12,  20,  14]])"
      ]
     },
     "execution_count": 92,
     "metadata": {},
     "output_type": "execute_result"
    }
   ],
   "source": [
    "e[:,1],e[:,2] = 100,99\n",
    "e"
   ]
  },
  {
   "cell_type": "code",
   "execution_count": 94,
   "id": "d9b357bb-bef3-4a73-86c4-e4a809ab0596",
   "metadata": {},
   "outputs": [
    {
     "data": {
      "text/plain": [
       "array([[0, 0, 0, 0, 0, 0, 0],\n",
       "       [0, 0, 0, 0, 0, 0, 0]])"
      ]
     },
     "execution_count": 94,
     "metadata": {},
     "output_type": "execute_result"
    }
   ],
   "source": [
    "e[:,:] = 0\n",
    "e"
   ]
  },
  {
   "cell_type": "code",
   "execution_count": 96,
   "id": "a84f4d40-0422-4059-83f2-d013e746ce5c",
   "metadata": {},
   "outputs": [
    {
     "name": "stdout",
     "output_type": "stream",
     "text": [
      "[[[1 2]\n",
      "  [3 4]]\n",
      "\n",
      " [[5 6]\n",
      "  [7 8]]]\n"
     ]
    }
   ],
   "source": [
    "f = np.array([[[1,2],[3,4]],[[5,6],[7,8]]],dtype='int16')\n",
    "print(f)"
   ]
  },
  {
   "cell_type": "code",
   "execution_count": 97,
   "id": "2a43e457-5828-4ee5-aa3f-cb905d841ad7",
   "metadata": {},
   "outputs": [
    {
     "data": {
      "text/plain": [
       "array([7, 8], dtype=int16)"
      ]
     },
     "execution_count": 97,
     "metadata": {},
     "output_type": "execute_result"
    }
   ],
   "source": [
    "f[1,1,:]"
   ]
  },
  {
   "cell_type": "code",
   "execution_count": 110,
   "id": "050565eb-2a9e-4728-a605-f8d4d97a42ae",
   "metadata": {},
   "outputs": [
    {
     "data": {
      "text/plain": [
       "array([4], dtype=int16)"
      ]
     },
     "execution_count": 110,
     "metadata": {},
     "output_type": "execute_result"
    }
   ],
   "source": [
    "f[0,1,1:]\n",
    "\n",
    "#Combining these two parts together, f[0,:,1:] selects the first layer, then selects all rows, and from each row, it selects columns from the second column onwards. The result is the subarray:\n"
   ]
  },
  {
   "cell_type": "code",
   "execution_count": 116,
   "id": "fdcc029f-1120-4a6b-ae27-97f32889a948",
   "metadata": {},
   "outputs": [
    {
     "data": {
      "text/plain": [
       "array([[[ 1, 10],\n",
       "        [ 3, 10]],\n",
       "\n",
       "       [[ 5,  6],\n",
       "        [ 7,  8]]], dtype=int16)"
      ]
     },
     "execution_count": 116,
     "metadata": {},
     "output_type": "execute_result"
    }
   ],
   "source": [
    "f[0,:,1:] = 10\n",
    "f"
   ]
  },
  {
   "cell_type": "code",
   "execution_count": 121,
   "id": "b3ea0f2c-398b-42ca-8bcd-632f9006a535",
   "metadata": {},
   "outputs": [
    {
     "data": {
      "text/plain": [
       "array([[[ 1, 10],\n",
       "        [ 9,  9]],\n",
       "\n",
       "       [[ 5,  6],\n",
       "        [ 8,  8]]], dtype=int16)"
      ]
     },
     "execution_count": 121,
     "metadata": {},
     "output_type": "execute_result"
    }
   ],
   "source": [
    "f[:,1,:] = [[9,9],[8,8]]\n",
    "f"
   ]
  },
  {
   "cell_type": "code",
   "execution_count": 122,
   "id": "869f3f39-8269-4a50-8fd9-749fc0a2b3e7",
   "metadata": {},
   "outputs": [
    {
     "data": {
      "text/plain": [
       "array([0., 0., 0., 0., 0.])"
      ]
     },
     "execution_count": 122,
     "metadata": {},
     "output_type": "execute_result"
    }
   ],
   "source": [
    "#all xeros\n",
    "\n",
    "np.zeros(5)"
   ]
  },
  {
   "cell_type": "code",
   "execution_count": 124,
   "id": "93dd9699-e628-409b-99ff-f3388fa0f147",
   "metadata": {},
   "outputs": [
    {
     "data": {
      "text/plain": [
       "array([[0., 0., 0., 0., 0.],\n",
       "       [0., 0., 0., 0., 0.],\n",
       "       [0., 0., 0., 0., 0.],\n",
       "       [0., 0., 0., 0., 0.],\n",
       "       [0., 0., 0., 0., 0.]])"
      ]
     },
     "execution_count": 124,
     "metadata": {},
     "output_type": "execute_result"
    }
   ],
   "source": [
    "np.zeros((5,5))"
   ]
  },
  {
   "cell_type": "code",
   "execution_count": 125,
   "id": "61b907d4-a35d-4037-a903-5352b443f654",
   "metadata": {},
   "outputs": [
    {
     "data": {
      "text/plain": [
       "array([[[0., 0., 0., 0., 0.],\n",
       "        [0., 0., 0., 0., 0.],\n",
       "        [0., 0., 0., 0., 0.],\n",
       "        [0., 0., 0., 0., 0.],\n",
       "        [0., 0., 0., 0., 0.]],\n",
       "\n",
       "       [[0., 0., 0., 0., 0.],\n",
       "        [0., 0., 0., 0., 0.],\n",
       "        [0., 0., 0., 0., 0.],\n",
       "        [0., 0., 0., 0., 0.],\n",
       "        [0., 0., 0., 0., 0.]],\n",
       "\n",
       "       [[0., 0., 0., 0., 0.],\n",
       "        [0., 0., 0., 0., 0.],\n",
       "        [0., 0., 0., 0., 0.],\n",
       "        [0., 0., 0., 0., 0.],\n",
       "        [0., 0., 0., 0., 0.]],\n",
       "\n",
       "       [[0., 0., 0., 0., 0.],\n",
       "        [0., 0., 0., 0., 0.],\n",
       "        [0., 0., 0., 0., 0.],\n",
       "        [0., 0., 0., 0., 0.],\n",
       "        [0., 0., 0., 0., 0.]],\n",
       "\n",
       "       [[0., 0., 0., 0., 0.],\n",
       "        [0., 0., 0., 0., 0.],\n",
       "        [0., 0., 0., 0., 0.],\n",
       "        [0., 0., 0., 0., 0.],\n",
       "        [0., 0., 0., 0., 0.]]])"
      ]
     },
     "execution_count": 125,
     "metadata": {},
     "output_type": "execute_result"
    }
   ],
   "source": [
    "np.zeros((5,5,5))"
   ]
  },
  {
   "cell_type": "code",
   "execution_count": 126,
   "id": "e60e769b-acd0-4743-8235-7e887c1cbe73",
   "metadata": {},
   "outputs": [
    {
     "data": {
      "text/plain": [
       "array([[[1, 1],\n",
       "        [1, 1]],\n",
       "\n",
       "       [[1, 1],\n",
       "        [1, 1]],\n",
       "\n",
       "       [[1, 1],\n",
       "        [1, 1]],\n",
       "\n",
       "       [[1, 1],\n",
       "        [1, 1]]], dtype=int8)"
      ]
     },
     "execution_count": 126,
     "metadata": {},
     "output_type": "execute_result"
    }
   ],
   "source": [
    "np.ones((4,2,2),dtype='int8')"
   ]
  },
  {
   "cell_type": "code",
   "execution_count": 127,
   "id": "56e4190a-c23e-4a20-8fe3-67ac3bea2e9e",
   "metadata": {},
   "outputs": [
    {
     "data": {
      "text/plain": [
       "array([[10, 10],\n",
       "       [10, 10]])"
      ]
     },
     "execution_count": 127,
     "metadata": {},
     "output_type": "execute_result"
    }
   ],
   "source": [
    "np.full((2,2),10)"
   ]
  },
  {
   "cell_type": "code",
   "execution_count": 128,
   "id": "9133ebeb-cf38-4255-8546-c91eec482343",
   "metadata": {},
   "outputs": [
    {
     "data": {
      "text/plain": [
       "array([[[4., 4., 4.],\n",
       "        [4., 4., 4.]],\n",
       "\n",
       "       [[4., 4., 4.],\n",
       "        [4., 4., 4.]]])"
      ]
     },
     "execution_count": 128,
     "metadata": {},
     "output_type": "execute_result"
    }
   ],
   "source": [
    "np.full_like(c,4)"
   ]
  },
  {
   "cell_type": "code",
   "execution_count": 137,
   "id": "0cb85b6c-4149-4fce-a0d3-c4aea7b74a37",
   "metadata": {},
   "outputs": [
    {
     "data": {
      "text/plain": [
       "array([[0.26621098, 0.14765156],\n",
       "       [0.90769404, 0.00120378],\n",
       "       [0.87647867, 0.94805308],\n",
       "       [0.00913191, 0.00833852]])"
      ]
     },
     "execution_count": 137,
     "metadata": {},
     "output_type": "execute_result"
    }
   ],
   "source": [
    "\n",
    "g = np.random.rand(4,2)\n",
    "g"
   ]
  },
  {
   "cell_type": "code",
   "execution_count": 153,
   "id": "12f4b503-1ad7-49ae-8022-54843b236869",
   "metadata": {},
   "outputs": [
    {
     "data": {
      "text/plain": [
       "array([[0.53242197, 0.29530312],\n",
       "       [1.81538808, 0.00240756],\n",
       "       [1.75295733, 1.89610616],\n",
       "       [0.01826382, 0.01667703]])"
      ]
     },
     "execution_count": 153,
     "metadata": {},
     "output_type": "execute_result"
    }
   ],
   "source": [
    "h = 2 * g\n",
    "h"
   ]
  },
  {
   "cell_type": "code",
   "execution_count": 155,
   "id": "ec2f1447-ffe2-4365-9eb2-35956ce9ecc1",
   "metadata": {},
   "outputs": [
    {
     "data": {
      "text/plain": [
       "array([[[0.59280129, 0.95153176, 0.46785798],\n",
       "        [0.33840091, 0.4347428 , 0.72370346]],\n",
       "\n",
       "       [[0.75079768, 0.73503483, 0.80384646],\n",
       "        [0.11865114, 0.15684799, 0.57416735]],\n",
       "\n",
       "       [[0.83515331, 0.9400882 , 0.30956457],\n",
       "        [0.73475033, 0.24707259, 0.91729392]],\n",
       "\n",
       "       [[0.58668204, 0.59503861, 0.41088911],\n",
       "        [0.37288969, 0.59503361, 0.46077611]]])"
      ]
     },
     "execution_count": 155,
     "metadata": {},
     "output_type": "execute_result"
    }
   ],
   "source": [
    "i = np.random.rand(4,2,3)\n",
    "i"
   ]
  },
  {
   "cell_type": "code",
   "execution_count": 157,
   "id": "e1c39bbd-212b-4abe-9945-898d64c41ec1",
   "metadata": {},
   "outputs": [
    {
     "data": {
      "text/plain": [
       "array([0.83302052, 0.93546602, 0.93533362])"
      ]
     },
     "execution_count": 157,
     "metadata": {},
     "output_type": "execute_result"
    }
   ],
   "source": [
    "np.random.random_sample(a.shape)"
   ]
  },
  {
   "cell_type": "code",
   "execution_count": 161,
   "id": "6419c6c2-b266-4728-8f02-7078ac786348",
   "metadata": {},
   "outputs": [
    {
     "data": {
      "text/plain": [
       "array([[5, 3, 6],\n",
       "       [2, 1, 3],\n",
       "       [1, 6, 4]])"
      ]
     },
     "execution_count": 161,
     "metadata": {},
     "output_type": "execute_result"
    }
   ],
   "source": [
    "np.random.randint(7,size=(3,3))"
   ]
  },
  {
   "cell_type": "code",
   "execution_count": 162,
   "id": "fb94b429-674c-40d4-bcbb-a9e09766610e",
   "metadata": {},
   "outputs": [
    {
     "data": {
      "text/plain": [
       "array([[5, 4, 4],\n",
       "       [4, 5, 5],\n",
       "       [4, 4, 4]])"
      ]
     },
     "execution_count": 162,
     "metadata": {},
     "output_type": "execute_result"
    }
   ],
   "source": [
    "np.random.randint(4,7,size=(3,3))"
   ]
  },
  {
   "cell_type": "code",
   "execution_count": 163,
   "id": "fe91fa58-80e5-4891-b926-3e5774275928",
   "metadata": {},
   "outputs": [
    {
     "data": {
      "text/plain": [
       "array([[1., 0., 0., 0., 0., 0., 0., 0., 0., 0.],\n",
       "       [0., 1., 0., 0., 0., 0., 0., 0., 0., 0.],\n",
       "       [0., 0., 1., 0., 0., 0., 0., 0., 0., 0.],\n",
       "       [0., 0., 0., 1., 0., 0., 0., 0., 0., 0.],\n",
       "       [0., 0., 0., 0., 1., 0., 0., 0., 0., 0.],\n",
       "       [0., 0., 0., 0., 0., 1., 0., 0., 0., 0.],\n",
       "       [0., 0., 0., 0., 0., 0., 1., 0., 0., 0.],\n",
       "       [0., 0., 0., 0., 0., 0., 0., 1., 0., 0.],\n",
       "       [0., 0., 0., 0., 0., 0., 0., 0., 1., 0.],\n",
       "       [0., 0., 0., 0., 0., 0., 0., 0., 0., 1.]])"
      ]
     },
     "execution_count": 163,
     "metadata": {},
     "output_type": "execute_result"
    }
   ],
   "source": [
    "np.identity(10)"
   ]
  },
  {
   "cell_type": "code",
   "execution_count": 164,
   "id": "ca3890c8-2edd-4b83-9608-2ceca7bb3272",
   "metadata": {},
   "outputs": [
    {
     "data": {
      "text/plain": [
       "array([1, 1, 1, 2, 2, 2, 3, 3, 3], dtype=int16)"
      ]
     },
     "execution_count": 164,
     "metadata": {},
     "output_type": "execute_result"
    }
   ],
   "source": [
    "r1 = np.repeat(a,3)\n",
    "r1"
   ]
  },
  {
   "cell_type": "code",
   "execution_count": 176,
   "id": "b0537363-8e5b-4a11-99f4-095af7861fc5",
   "metadata": {},
   "outputs": [
    {
     "data": {
      "text/plain": [
       "array([[[1. , 2. , 3. ],\n",
       "        [3.1, 2.3, 1.2]],\n",
       "\n",
       "       [[1. , 2. , 3. ],\n",
       "        [3.1, 2.3, 1.2]],\n",
       "\n",
       "       [[1. , 2. , 3. ],\n",
       "        [3.1, 2.3, 1.2]],\n",
       "\n",
       "       [[1. , 2. , 3. ],\n",
       "        [3.1, 2.3, 1.2]],\n",
       "\n",
       "       [[1. , 2. , 3. ],\n",
       "        [3.1, 2.3, 1.2]],\n",
       "\n",
       "       [[1. , 2. , 3. ],\n",
       "        [3.1, 2.3, 1.2]]])"
      ]
     },
     "execution_count": 176,
     "metadata": {},
     "output_type": "execute_result"
    }
   ],
   "source": [
    "r1 = np.repeat(c,3,axis=0)\n",
    "r1"
   ]
  },
  {
   "cell_type": "code",
   "execution_count": 180,
   "id": "a965520b-9b68-4c03-9f6c-7bb81cb2bdd5",
   "metadata": {},
   "outputs": [
    {
     "data": {
      "text/plain": [
       "array([[1., 1., 1., 1., 1.],\n",
       "       [1., 0., 0., 0., 1.],\n",
       "       [1., 0., 9., 0., 1.],\n",
       "       [1., 0., 0., 0., 1.],\n",
       "       [1., 1., 1., 1., 1.]])"
      ]
     },
     "execution_count": 180,
     "metadata": {},
     "output_type": "execute_result"
    }
   ],
   "source": [
    "k = np.ones((5,5))\n",
    "k[1:4,1:4] = 0\n",
    "k[2,2] = 9\n",
    "k"
   ]
  },
  {
   "cell_type": "code",
   "execution_count": null,
   "id": "aa8abfc3-e398-40ca-b62b-3363e7909e46",
   "metadata": {},
   "outputs": [],
   "source": [
    "a = np.array([1,2,3],dtype='int16')"
   ]
  },
  {
   "cell_type": "code",
   "execution_count": null,
   "id": "4bd9025c-c7f2-4b1f-ae5d-3baf1a6bd017",
   "metadata": {},
   "outputs": [],
   "source": []
  },
  {
   "cell_type": "code",
   "execution_count": null,
   "id": "763812e2-1910-448e-8fad-0cb012b3c894",
   "metadata": {},
   "outputs": [],
   "source": []
  },
  {
   "cell_type": "code",
   "execution_count": null,
   "id": "34c40dd9-2a49-4ac9-a4c8-73155a39138a",
   "metadata": {},
   "outputs": [],
   "source": []
  },
  {
   "cell_type": "code",
   "execution_count": null,
   "id": "e667b7ea-b46e-472f-9ac7-64bd4a54b3db",
   "metadata": {},
   "outputs": [],
   "source": []
  },
  {
   "cell_type": "code",
   "execution_count": null,
   "id": "56459fbb-3242-4b96-9510-a5c737fa2a7c",
   "metadata": {},
   "outputs": [],
   "source": []
  },
  {
   "cell_type": "code",
   "execution_count": null,
   "id": "096522b9-be8e-492a-aac1-778f9548822b",
   "metadata": {},
   "outputs": [],
   "source": []
  },
  {
   "cell_type": "code",
   "execution_count": null,
   "id": "6f23d5c6-4f91-423c-8279-1fbd56c8c518",
   "metadata": {},
   "outputs": [],
   "source": []
  },
  {
   "cell_type": "code",
   "execution_count": null,
   "id": "02c86b5b-adbf-4000-8d46-760b3c0f3331",
   "metadata": {},
   "outputs": [],
   "source": []
  },
  {
   "cell_type": "code",
   "execution_count": null,
   "id": "155114bc-226e-49a3-98ed-e849cffd181d",
   "metadata": {},
   "outputs": [],
   "source": []
  },
  {
   "cell_type": "code",
   "execution_count": null,
   "id": "7e97eb38-5ae3-46c6-acc2-6539cb49e3a7",
   "metadata": {},
   "outputs": [],
   "source": []
  },
  {
   "cell_type": "code",
   "execution_count": null,
   "id": "b033ce9b-17de-4a4e-8385-aaa34a651c27",
   "metadata": {},
   "outputs": [],
   "source": []
  },
  {
   "cell_type": "code",
   "execution_count": null,
   "id": "11c987f6-5be7-4175-827e-80399c81efb0",
   "metadata": {},
   "outputs": [],
   "source": []
  },
  {
   "cell_type": "code",
   "execution_count": null,
   "id": "51f751fd-82e7-4cb6-bf4b-507b82b95225",
   "metadata": {},
   "outputs": [],
   "source": []
  }
 ],
 "metadata": {
  "kernelspec": {
   "display_name": "Python 3 (ipykernel)",
   "language": "python",
   "name": "python3"
  },
  "language_info": {
   "codemirror_mode": {
    "name": "ipython",
    "version": 3
   },
   "file_extension": ".py",
   "mimetype": "text/x-python",
   "name": "python",
   "nbconvert_exporter": "python",
   "pygments_lexer": "ipython3",
   "version": "3.11.4"
  }
 },
 "nbformat": 4,
 "nbformat_minor": 5
}
