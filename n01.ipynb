{
 "cells": [
  {
   "cell_type": "code",
   "execution_count": 1,
   "id": "95c39906-f222-448f-9aa6-afbde26b678d",
   "metadata": {},
   "outputs": [],
   "source": [
    "import numpy as np"
   ]
  },
  {
   "cell_type": "markdown",
   "id": "cc65512c-0f4c-46a4-93e7-e0f8500e5030",
   "metadata": {},
   "source": [
    "basic"
   ]
  },
  {
   "cell_type": "code",
   "execution_count": 2,
   "id": "1a225295-45c7-4e14-a3a5-150644ff7757",
   "metadata": {},
   "outputs": [
    {
     "name": "stdout",
     "output_type": "stream",
     "text": [
      "[1 2 3]\n"
     ]
    }
   ],
   "source": [
    "a = np.array([1,2,3],dtype='int16')\n",
    "print(a)"
   ]
  },
  {
   "cell_type": "code",
   "execution_count": 3,
   "id": "feca7610-d7c1-4ff9-b1d8-49f3b03fb95b",
   "metadata": {},
   "outputs": [
    {
     "name": "stdout",
     "output_type": "stream",
     "text": [
      "[1 2 3]\n"
     ]
    }
   ],
   "source": [
    "d = np.array([1,2,3],dtype='int32')\n",
    "print(d)"
   ]
  },
  {
   "cell_type": "code",
   "execution_count": 4,
   "id": "075a42b6-b81a-4787-af81-e2aa24f24618",
   "metadata": {},
   "outputs": [
    {
     "name": "stdout",
     "output_type": "stream",
     "text": [
      "[[1.  2.  3. ]\n",
      " [3.1 2.3 1.2]\n",
      " [1.  2.  3. ]\n",
      " [3.1 2.3 1.2]]\n"
     ]
    }
   ],
   "source": [
    "b = np.array([[1.0,2.0,3.0],[3.1,2.3,1.2],[1.0,2.0,3.0],[3.1,2.3,1.2]])\n",
    "print(b)"
   ]
  },
  {
   "cell_type": "code",
   "execution_count": 5,
   "id": "8ba05e29-4047-4469-86d7-64925044459c",
   "metadata": {},
   "outputs": [
    {
     "name": "stdout",
     "output_type": "stream",
     "text": [
      "[[[1.  2.  3. ]\n",
      "  [3.1 2.3 1.2]]\n",
      "\n",
      " [[1.  2.  3. ]\n",
      "  [3.1 2.3 1.2]]]\n"
     ]
    }
   ],
   "source": [
    "c = np.array([[[1.0,2.0,3.0],[3.1,2.3,1.2]],[[1.0,2.0,3.0],[3.1,2.3,1.2]]])\n",
    "print(c)"
   ]
  },
  {
   "cell_type": "code",
   "execution_count": 6,
   "id": "d74c2ff3-71bd-46a1-984f-0930a380c948",
   "metadata": {},
   "outputs": [
    {
     "data": {
      "text/plain": [
       "(1, 2, 3)"
      ]
     },
     "execution_count": 6,
     "metadata": {},
     "output_type": "execute_result"
    }
   ],
   "source": [
    "a.ndim,b.ndim,c.ndim"
   ]
  },
  {
   "cell_type": "code",
   "execution_count": 7,
   "id": "7c64c561-0262-4148-846f-0189aab36fcb",
   "metadata": {},
   "outputs": [
    {
     "data": {
      "text/plain": [
       "(3,)"
      ]
     },
     "execution_count": 7,
     "metadata": {},
     "output_type": "execute_result"
    }
   ],
   "source": [
    "a.shape"
   ]
  },
  {
   "cell_type": "code",
   "execution_count": 8,
   "id": "d846a2b2-6db6-4759-88bc-100df11d3c02",
   "metadata": {},
   "outputs": [
    {
     "data": {
      "text/plain": [
       "(4, 3)"
      ]
     },
     "execution_count": 8,
     "metadata": {},
     "output_type": "execute_result"
    }
   ],
   "source": [
    "b.shape"
   ]
  },
  {
   "cell_type": "code",
   "execution_count": 9,
   "id": "ae060f59-9846-41de-b338-1a7d85ef3ee3",
   "metadata": {},
   "outputs": [
    {
     "data": {
      "text/plain": [
       "(2, 2, 3)"
      ]
     },
     "execution_count": 9,
     "metadata": {},
     "output_type": "execute_result"
    }
   ],
   "source": [
    "c.shape"
   ]
  },
  {
   "cell_type": "code",
   "execution_count": 10,
   "id": "8e9f3ee3-c024-4f3c-9c03-31544f801f52",
   "metadata": {},
   "outputs": [
    {
     "data": {
      "text/plain": [
       "dtype('int16')"
      ]
     },
     "execution_count": 10,
     "metadata": {},
     "output_type": "execute_result"
    }
   ],
   "source": [
    "a.dtype"
   ]
  },
  {
   "cell_type": "code",
   "execution_count": 11,
   "id": "efbd811b-c096-475d-9e3c-f944c545162b",
   "metadata": {},
   "outputs": [
    {
     "data": {
      "text/plain": [
       "dtype('float64')"
      ]
     },
     "execution_count": 11,
     "metadata": {},
     "output_type": "execute_result"
    }
   ],
   "source": [
    "b.dtype"
   ]
  },
  {
   "cell_type": "code",
   "execution_count": 12,
   "id": "92bd3881-fc18-4e5d-8a9e-45ee70d6daea",
   "metadata": {},
   "outputs": [
    {
     "data": {
      "text/plain": [
       "2"
      ]
     },
     "execution_count": 12,
     "metadata": {},
     "output_type": "execute_result"
    }
   ],
   "source": [
    "a.itemsize#returns the byte memory"
   ]
  },
  {
   "cell_type": "code",
   "execution_count": 13,
   "id": "d37f244a-3a73-4841-877a-221ab47ed001",
   "metadata": {},
   "outputs": [
    {
     "data": {
      "text/plain": [
       "4"
      ]
     },
     "execution_count": 13,
     "metadata": {},
     "output_type": "execute_result"
    }
   ],
   "source": [
    "d.itemsize"
   ]
  },
  {
   "cell_type": "code",
   "execution_count": 14,
   "id": "32b30c05-41a2-40aa-8fec-cec113c2eb75",
   "metadata": {},
   "outputs": [
    {
     "data": {
      "text/plain": [
       "3"
      ]
     },
     "execution_count": 14,
     "metadata": {},
     "output_type": "execute_result"
    }
   ],
   "source": [
    "a.size #returns the size of the matrix"
   ]
  },
  {
   "cell_type": "code",
   "execution_count": 15,
   "id": "3f2eb40c-f705-43ca-ba22-a809aae74591",
   "metadata": {},
   "outputs": [
    {
     "data": {
      "text/plain": [
       "6"
      ]
     },
     "execution_count": 15,
     "metadata": {},
     "output_type": "execute_result"
    }
   ],
   "source": [
    "total = a.size * a.itemsize\n",
    "total"
   ]
  },
  {
   "cell_type": "code",
   "execution_count": 16,
   "id": "3c1cee89-cc54-40cf-986f-6fe9641aee87",
   "metadata": {},
   "outputs": [
    {
     "data": {
      "text/plain": [
       "6"
      ]
     },
     "execution_count": 16,
     "metadata": {},
     "output_type": "execute_result"
    }
   ],
   "source": [
    "#or\n",
    "a.nbytes"
   ]
  },
  {
   "cell_type": "code",
   "execution_count": 17,
   "id": "28d58104-6396-46ab-8de6-ee5a1360315e",
   "metadata": {},
   "outputs": [
    {
     "data": {
      "text/plain": [
       "96"
      ]
     },
     "execution_count": 17,
     "metadata": {},
     "output_type": "execute_result"
    }
   ],
   "source": [
    "b.nbytes"
   ]
  },
  {
   "cell_type": "markdown",
   "id": "5c467ef8-878e-4136-9551-0e8d3c2f1beb",
   "metadata": {},
   "source": [
    "accessing,changing,rows,colums"
   ]
  },
  {
   "cell_type": "code",
   "execution_count": 18,
   "id": "92baab6b-b4fd-406a-8b27-4a84f49264e4",
   "metadata": {},
   "outputs": [
    {
     "data": {
      "text/plain": [
       "((2, 7),\n",
       " array([[ 1,  2,  3,  4,  5,  6,  7],\n",
       "        [ 8,  9, 10, 11, 12, 13, 14]]))"
      ]
     },
     "execution_count": 18,
     "metadata": {},
     "output_type": "execute_result"
    }
   ],
   "source": [
    "e = np.array([[1,2,3,4,5,6,7],[8,9,10,11,12,13,14]])\n",
    "e.shape,e"
   ]
  },
  {
   "cell_type": "code",
   "execution_count": 19,
   "id": "20fc3b4f-50b6-4428-b6be-f1586c02690b",
   "metadata": {},
   "outputs": [
    {
     "data": {
      "text/plain": [
       "13"
      ]
     },
     "execution_count": 19,
     "metadata": {},
     "output_type": "execute_result"
    }
   ],
   "source": [
    "e[1,5]"
   ]
  },
  {
   "cell_type": "code",
   "execution_count": 20,
   "id": "56d21a70-9d36-450b-bece-bf548c8bb334",
   "metadata": {},
   "outputs": [
    {
     "data": {
      "text/plain": [
       "10"
      ]
     },
     "execution_count": 20,
     "metadata": {},
     "output_type": "execute_result"
    }
   ],
   "source": [
    "e[1,-5]\n"
   ]
  },
  {
   "cell_type": "code",
   "execution_count": 21,
   "id": "504c3427-40cf-4d56-aedf-1d513a785541",
   "metadata": {},
   "outputs": [
    {
     "data": {
      "text/plain": [
       "array([1, 2, 3, 4, 5, 6, 7])"
      ]
     },
     "execution_count": 21,
     "metadata": {},
     "output_type": "execute_result"
    }
   ],
   "source": [
    "e[0,:]"
   ]
  },
  {
   "cell_type": "code",
   "execution_count": 22,
   "id": "307ddf27-679a-4402-88fa-89443fd8943a",
   "metadata": {},
   "outputs": [
    {
     "data": {
      "text/plain": [
       "array([ 8,  9, 10, 11, 12, 13, 14])"
      ]
     },
     "execution_count": 22,
     "metadata": {},
     "output_type": "execute_result"
    }
   ],
   "source": [
    "e[1,:]"
   ]
  },
  {
   "cell_type": "code",
   "execution_count": 23,
   "id": "5aae9a0a-b6ed-4755-952e-d86bd4ca49fd",
   "metadata": {},
   "outputs": [
    {
     "data": {
      "text/plain": [
       "array([2, 4, 6])"
      ]
     },
     "execution_count": 23,
     "metadata": {},
     "output_type": "execute_result"
    }
   ],
   "source": [
    "e[0,1:6:2]\n",
    "# 0 means the row here first row 1 means starting index 6 means ening index,2 means step"
   ]
  },
  {
   "cell_type": "code",
   "execution_count": 24,
   "id": "0e56d29d-4627-4dbd-b457-97618f3cbbaf",
   "metadata": {},
   "outputs": [
    {
     "data": {
      "text/plain": [
       "array([ 3, 10])"
      ]
     },
     "execution_count": 24,
     "metadata": {},
     "output_type": "execute_result"
    }
   ],
   "source": [
    "e[:,2]"
   ]
  },
  {
   "cell_type": "code",
   "execution_count": 25,
   "id": "ec634a19-41d2-4a77-a74a-c29b4be457af",
   "metadata": {},
   "outputs": [
    {
     "data": {
      "text/plain": [
       "(array([[1. , 2. , 3. ],\n",
       "        [3.1, 2.3, 1.2],\n",
       "        [1. , 2. , 3. ],\n",
       "        [3.1, 2.3, 1.2]]),\n",
       " (4, 3))"
      ]
     },
     "execution_count": 25,
     "metadata": {},
     "output_type": "execute_result"
    }
   ],
   "source": [
    "b,b.shape"
   ]
  },
  {
   "cell_type": "code",
   "execution_count": 26,
   "id": "cfc0c560-a6fc-435e-8128-183c063453dc",
   "metadata": {},
   "outputs": [
    {
     "data": {
      "text/plain": [
       "array([2., 3.])"
      ]
     },
     "execution_count": 26,
     "metadata": {},
     "output_type": "execute_result"
    }
   ],
   "source": [
    "b[0,1:3]"
   ]
  },
  {
   "cell_type": "code",
   "execution_count": 27,
   "id": "04b9527b-f2fd-482d-a384-a1b7bb4a11f8",
   "metadata": {},
   "outputs": [
    {
     "data": {
      "text/plain": [
       "array([2, 4, 6])"
      ]
     },
     "execution_count": 27,
     "metadata": {},
     "output_type": "execute_result"
    }
   ],
   "source": [
    "e[0,1:-1:2]"
   ]
  },
  {
   "cell_type": "code",
   "execution_count": 28,
   "id": "50474a19-2402-4b15-a0c7-f338d661902f",
   "metadata": {},
   "outputs": [
    {
     "data": {
      "text/plain": [
       "array([[ 1,  2,  3,  4,  5,  6,  7],\n",
       "       [ 8,  9, 10, 11, 12, 13, 14]])"
      ]
     },
     "execution_count": 28,
     "metadata": {},
     "output_type": "execute_result"
    }
   ],
   "source": [
    "e"
   ]
  },
  {
   "cell_type": "code",
   "execution_count": 29,
   "id": "d5413995-d371-41fc-a232-63e73294e561",
   "metadata": {},
   "outputs": [
    {
     "data": {
      "text/plain": [
       "array([[ 1,  2,  3,  4,  5,  6,  7],\n",
       "       [ 8,  9, 10, 11, 12, 15, 14]])"
      ]
     },
     "execution_count": 29,
     "metadata": {},
     "output_type": "execute_result"
    }
   ],
   "source": [
    "e[1,5] = 15\n",
    "e"
   ]
  },
  {
   "cell_type": "code",
   "execution_count": 30,
   "id": "a8aa20ed-947b-44e0-8ba6-3ad04f8615a9",
   "metadata": {},
   "outputs": [
    {
     "data": {
      "text/plain": [
       "array([[ 1,  2,  3,  4,  5, 20,  7],\n",
       "       [ 8,  9, 10, 11, 12, 20, 14]])"
      ]
     },
     "execution_count": 30,
     "metadata": {},
     "output_type": "execute_result"
    }
   ],
   "source": [
    "e[:,5] = 20\n",
    "e"
   ]
  },
  {
   "cell_type": "code",
   "execution_count": 31,
   "id": "7559dd3d-d9ec-4564-a35f-f231d577aff7",
   "metadata": {},
   "outputs": [
    {
     "data": {
      "text/plain": [
       "array([[  1, 100,  99,   4,   5,  20,   7],\n",
       "       [  8, 100,  99,  11,  12,  20,  14]])"
      ]
     },
     "execution_count": 31,
     "metadata": {},
     "output_type": "execute_result"
    }
   ],
   "source": [
    "e[:,1],e[:,2] = 100,99\n",
    "e"
   ]
  },
  {
   "cell_type": "code",
   "execution_count": 32,
   "id": "d9b357bb-bef3-4a73-86c4-e4a809ab0596",
   "metadata": {},
   "outputs": [
    {
     "data": {
      "text/plain": [
       "array([[0, 0, 0, 0, 0, 0, 0],\n",
       "       [0, 0, 0, 0, 0, 0, 0]])"
      ]
     },
     "execution_count": 32,
     "metadata": {},
     "output_type": "execute_result"
    }
   ],
   "source": [
    "e[:,:] = 0\n",
    "e"
   ]
  },
  {
   "cell_type": "code",
   "execution_count": 33,
   "id": "a84f4d40-0422-4059-83f2-d013e746ce5c",
   "metadata": {},
   "outputs": [
    {
     "name": "stdout",
     "output_type": "stream",
     "text": [
      "[[[1 2]\n",
      "  [3 4]]\n",
      "\n",
      " [[5 6]\n",
      "  [7 8]]]\n"
     ]
    }
   ],
   "source": [
    "f = np.array([[[1,2],[3,4]],[[5,6],[7,8]]],dtype='int16')\n",
    "print(f)"
   ]
  },
  {
   "cell_type": "code",
   "execution_count": 34,
   "id": "2a43e457-5828-4ee5-aa3f-cb905d841ad7",
   "metadata": {},
   "outputs": [
    {
     "data": {
      "text/plain": [
       "array([7, 8], dtype=int16)"
      ]
     },
     "execution_count": 34,
     "metadata": {},
     "output_type": "execute_result"
    }
   ],
   "source": [
    "f[1,1,:]"
   ]
  },
  {
   "cell_type": "code",
   "execution_count": 35,
   "id": "050565eb-2a9e-4728-a605-f8d4d97a42ae",
   "metadata": {},
   "outputs": [
    {
     "data": {
      "text/plain": [
       "array([4], dtype=int16)"
      ]
     },
     "execution_count": 35,
     "metadata": {},
     "output_type": "execute_result"
    }
   ],
   "source": [
    "f[0,1,1:]\n",
    "\n",
    "#Combining these two parts together, f[0,:,1:] selects the first layer, then selects all rows, and from each row, it selects columns from the second column onwards. The result is the subarray:\n"
   ]
  },
  {
   "cell_type": "code",
   "execution_count": 36,
   "id": "fdcc029f-1120-4a6b-ae27-97f32889a948",
   "metadata": {},
   "outputs": [
    {
     "data": {
      "text/plain": [
       "array([[[ 1, 10],\n",
       "        [ 3, 10]],\n",
       "\n",
       "       [[ 5,  6],\n",
       "        [ 7,  8]]], dtype=int16)"
      ]
     },
     "execution_count": 36,
     "metadata": {},
     "output_type": "execute_result"
    }
   ],
   "source": [
    "f[0,:,1:] = 10\n",
    "f"
   ]
  },
  {
   "cell_type": "code",
   "execution_count": 37,
   "id": "b3ea0f2c-398b-42ca-8bcd-632f9006a535",
   "metadata": {},
   "outputs": [
    {
     "data": {
      "text/plain": [
       "array([[[ 1, 10],\n",
       "        [ 9,  9]],\n",
       "\n",
       "       [[ 5,  6],\n",
       "        [ 8,  8]]], dtype=int16)"
      ]
     },
     "execution_count": 37,
     "metadata": {},
     "output_type": "execute_result"
    }
   ],
   "source": [
    "f[:,1,:] = [[9,9],[8,8]]\n",
    "f"
   ]
  },
  {
   "cell_type": "code",
   "execution_count": 38,
   "id": "869f3f39-8269-4a50-8fd9-749fc0a2b3e7",
   "metadata": {},
   "outputs": [
    {
     "data": {
      "text/plain": [
       "array([0., 0., 0., 0., 0.])"
      ]
     },
     "execution_count": 38,
     "metadata": {},
     "output_type": "execute_result"
    }
   ],
   "source": [
    "#all xeros\n",
    "\n",
    "np.zeros(5)"
   ]
  },
  {
   "cell_type": "code",
   "execution_count": 39,
   "id": "93dd9699-e628-409b-99ff-f3388fa0f147",
   "metadata": {},
   "outputs": [
    {
     "data": {
      "text/plain": [
       "array([[0., 0., 0., 0., 0.],\n",
       "       [0., 0., 0., 0., 0.],\n",
       "       [0., 0., 0., 0., 0.],\n",
       "       [0., 0., 0., 0., 0.],\n",
       "       [0., 0., 0., 0., 0.]])"
      ]
     },
     "execution_count": 39,
     "metadata": {},
     "output_type": "execute_result"
    }
   ],
   "source": [
    "np.zeros((5,5))"
   ]
  },
  {
   "cell_type": "code",
   "execution_count": 40,
   "id": "61b907d4-a35d-4037-a903-5352b443f654",
   "metadata": {},
   "outputs": [
    {
     "data": {
      "text/plain": [
       "array([[[0., 0., 0., 0., 0.],\n",
       "        [0., 0., 0., 0., 0.],\n",
       "        [0., 0., 0., 0., 0.],\n",
       "        [0., 0., 0., 0., 0.],\n",
       "        [0., 0., 0., 0., 0.]],\n",
       "\n",
       "       [[0., 0., 0., 0., 0.],\n",
       "        [0., 0., 0., 0., 0.],\n",
       "        [0., 0., 0., 0., 0.],\n",
       "        [0., 0., 0., 0., 0.],\n",
       "        [0., 0., 0., 0., 0.]],\n",
       "\n",
       "       [[0., 0., 0., 0., 0.],\n",
       "        [0., 0., 0., 0., 0.],\n",
       "        [0., 0., 0., 0., 0.],\n",
       "        [0., 0., 0., 0., 0.],\n",
       "        [0., 0., 0., 0., 0.]],\n",
       "\n",
       "       [[0., 0., 0., 0., 0.],\n",
       "        [0., 0., 0., 0., 0.],\n",
       "        [0., 0., 0., 0., 0.],\n",
       "        [0., 0., 0., 0., 0.],\n",
       "        [0., 0., 0., 0., 0.]],\n",
       "\n",
       "       [[0., 0., 0., 0., 0.],\n",
       "        [0., 0., 0., 0., 0.],\n",
       "        [0., 0., 0., 0., 0.],\n",
       "        [0., 0., 0., 0., 0.],\n",
       "        [0., 0., 0., 0., 0.]]])"
      ]
     },
     "execution_count": 40,
     "metadata": {},
     "output_type": "execute_result"
    }
   ],
   "source": [
    "np.zeros((5,5,5))"
   ]
  },
  {
   "cell_type": "code",
   "execution_count": 41,
   "id": "e60e769b-acd0-4743-8235-7e887c1cbe73",
   "metadata": {},
   "outputs": [
    {
     "data": {
      "text/plain": [
       "array([[[1, 1],\n",
       "        [1, 1]],\n",
       "\n",
       "       [[1, 1],\n",
       "        [1, 1]],\n",
       "\n",
       "       [[1, 1],\n",
       "        [1, 1]],\n",
       "\n",
       "       [[1, 1],\n",
       "        [1, 1]]], dtype=int8)"
      ]
     },
     "execution_count": 41,
     "metadata": {},
     "output_type": "execute_result"
    }
   ],
   "source": [
    "np.ones((4,2,2),dtype='int8')"
   ]
  },
  {
   "cell_type": "code",
   "execution_count": 42,
   "id": "56e4190a-c23e-4a20-8fe3-67ac3bea2e9e",
   "metadata": {},
   "outputs": [
    {
     "data": {
      "text/plain": [
       "array([[10, 10],\n",
       "       [10, 10]])"
      ]
     },
     "execution_count": 42,
     "metadata": {},
     "output_type": "execute_result"
    }
   ],
   "source": [
    "np.full((2,2),10)"
   ]
  },
  {
   "cell_type": "code",
   "execution_count": 43,
   "id": "9133ebeb-cf38-4255-8546-c91eec482343",
   "metadata": {},
   "outputs": [
    {
     "data": {
      "text/plain": [
       "array([[[4., 4., 4.],\n",
       "        [4., 4., 4.]],\n",
       "\n",
       "       [[4., 4., 4.],\n",
       "        [4., 4., 4.]]])"
      ]
     },
     "execution_count": 43,
     "metadata": {},
     "output_type": "execute_result"
    }
   ],
   "source": [
    "np.full_like(c,4)"
   ]
  },
  {
   "cell_type": "code",
   "execution_count": 44,
   "id": "0cb85b6c-4149-4fce-a0d3-c4aea7b74a37",
   "metadata": {},
   "outputs": [
    {
     "data": {
      "text/plain": [
       "array([[0.22060123, 0.85958384],\n",
       "       [0.27857786, 0.68557136],\n",
       "       [0.53738959, 0.93969494],\n",
       "       [0.25455632, 0.98908235]])"
      ]
     },
     "execution_count": 44,
     "metadata": {},
     "output_type": "execute_result"
    }
   ],
   "source": [
    "\n",
    "g = np.random.rand(4,2)\n",
    "g"
   ]
  },
  {
   "cell_type": "code",
   "execution_count": 45,
   "id": "12f4b503-1ad7-49ae-8022-54843b236869",
   "metadata": {},
   "outputs": [
    {
     "data": {
      "text/plain": [
       "array([[0.44120245, 1.71916768],\n",
       "       [0.55715573, 1.37114272],\n",
       "       [1.07477918, 1.87938989],\n",
       "       [0.50911263, 1.97816471]])"
      ]
     },
     "execution_count": 45,
     "metadata": {},
     "output_type": "execute_result"
    }
   ],
   "source": [
    "h = 2 * g\n",
    "h"
   ]
  },
  {
   "cell_type": "code",
   "execution_count": 46,
   "id": "ec2f1447-ffe2-4365-9eb2-35956ce9ecc1",
   "metadata": {},
   "outputs": [
    {
     "data": {
      "text/plain": [
       "array([[[0.48787827, 0.58319723, 0.93269936],\n",
       "        [0.05035337, 0.5296315 , 0.63056998]],\n",
       "\n",
       "       [[0.28264037, 0.91793018, 0.82116245],\n",
       "        [0.75627931, 0.26836598, 0.23028739]],\n",
       "\n",
       "       [[0.98764936, 0.19659646, 0.27661151],\n",
       "        [0.6822507 , 0.96882632, 0.90448094]],\n",
       "\n",
       "       [[0.44835203, 0.00509159, 0.73242658],\n",
       "        [0.19910928, 0.97765201, 0.27454027]]])"
      ]
     },
     "execution_count": 46,
     "metadata": {},
     "output_type": "execute_result"
    }
   ],
   "source": [
    "i = np.random.rand(4,2,3)\n",
    "i"
   ]
  },
  {
   "cell_type": "code",
   "execution_count": 47,
   "id": "efbd71ac-8fbb-4d4b-8daf-536792e1529f",
   "metadata": {},
   "outputs": [
    {
     "data": {
      "text/plain": [
       "array([[-4.26253386e-01, -5.58444053e-01, -1.27350329e+00,\n",
       "        -1.78513948e+00, -1.01678286e+00,  5.78970708e-01,\n",
       "        -3.69975529e-01,  4.65294502e-01,  1.12448739e+00,\n",
       "         1.46904351e+00],\n",
       "       [-1.83385231e+00,  2.81629627e-02, -4.80609128e-01,\n",
       "         1.85184354e-01,  1.18790684e+00, -3.58537882e-01,\n",
       "         3.83056700e-01, -1.47606283e+00, -1.10027185e+00,\n",
       "        -2.71286453e-01],\n",
       "       [ 2.28330846e-02, -5.82952692e-01,  9.46572550e-01,\n",
       "         9.37527863e-01,  2.10191788e+00,  1.83292575e+00,\n",
       "         8.15550995e-01, -4.75167658e-01,  1.52852957e+00,\n",
       "         5.91239018e-01],\n",
       "       [-4.89159081e-01, -1.04682509e+00,  1.39817306e+00,\n",
       "         2.67740450e+00,  4.62849685e-02,  1.04034855e-01,\n",
       "         2.22989241e-01, -1.63124740e-02,  9.96853029e-01,\n",
       "        -4.28976978e-01],\n",
       "       [ 1.73392292e+00, -1.48852883e-01,  5.17374153e-01,\n",
       "        -5.66743520e-01,  1.18535077e+00, -8.51150080e-01,\n",
       "        -1.82798089e+00,  9.67310142e-01,  7.36895640e-01,\n",
       "        -4.78376527e-01],\n",
       "       [-9.37601064e-01,  8.68359353e-02, -1.11647111e+00,\n",
       "         1.26326554e+00, -1.56238334e+00,  1.16673421e+00,\n",
       "        -3.98969162e-02,  1.37424948e+00, -4.65278158e-01,\n",
       "         1.10281845e+00],\n",
       "       [-9.47067621e-01,  9.81124348e-01, -3.13236251e-01,\n",
       "        -8.41274236e-01, -7.10899373e-01,  1.36505463e+00,\n",
       "        -2.54342307e-01, -8.76242250e-01,  2.13334716e-01,\n",
       "        -5.92482902e-02],\n",
       "       [ 5.21319219e-01, -3.15665623e-01,  1.19258034e+00,\n",
       "        -1.23488465e-01, -9.73047250e-02,  7.43197028e-01,\n",
       "        -5.02680157e-01, -3.67004418e-01, -6.74756799e-01,\n",
       "         1.78036169e+00],\n",
       "       [ 9.07843984e-01,  2.28190239e+00,  9.37162702e-02,\n",
       "         9.75671674e-02,  1.54514604e+00,  7.22523084e-01,\n",
       "         1.64969690e+00, -8.60642288e-04,  7.71471717e-02,\n",
       "        -5.63815591e-01],\n",
       "       [ 4.21288546e-01, -1.29127297e+00, -1.35189886e+00,\n",
       "         7.48156856e-01,  1.12535106e+00,  1.68447584e+00,\n",
       "         5.86380069e-01,  8.20106206e-02,  4.55423268e-02,\n",
       "         1.66378667e-01]])"
      ]
     },
     "execution_count": 47,
     "metadata": {},
     "output_type": "execute_result"
    }
   ],
   "source": [
    "np.random.randn(10,10)"
   ]
  },
  {
   "cell_type": "code",
   "execution_count": 48,
   "id": "e1c39bbd-212b-4abe-9945-898d64c41ec1",
   "metadata": {},
   "outputs": [
    {
     "data": {
      "text/plain": [
       "array([0.15178248, 0.06406096, 0.71300372])"
      ]
     },
     "execution_count": 48,
     "metadata": {},
     "output_type": "execute_result"
    }
   ],
   "source": [
    "np.random.random_sample(a.shape)"
   ]
  },
  {
   "cell_type": "code",
   "execution_count": 49,
   "id": "6419c6c2-b266-4728-8f02-7078ac786348",
   "metadata": {},
   "outputs": [
    {
     "data": {
      "text/plain": [
       "array([[3, 1, 6],\n",
       "       [0, 5, 6],\n",
       "       [5, 3, 0]])"
      ]
     },
     "execution_count": 49,
     "metadata": {},
     "output_type": "execute_result"
    }
   ],
   "source": [
    "np.random.randint(7,size=(3,3))"
   ]
  },
  {
   "cell_type": "code",
   "execution_count": 50,
   "id": "fb94b429-674c-40d4-bcbb-a9e09766610e",
   "metadata": {},
   "outputs": [
    {
     "data": {
      "text/plain": [
       "array([[5, 5, 4],\n",
       "       [5, 4, 4],\n",
       "       [6, 6, 6]])"
      ]
     },
     "execution_count": 50,
     "metadata": {},
     "output_type": "execute_result"
    }
   ],
   "source": [
    "np.random.randint(4,7,size=(3,3))"
   ]
  },
  {
   "cell_type": "code",
   "execution_count": 51,
   "id": "fe91fa58-80e5-4891-b926-3e5774275928",
   "metadata": {},
   "outputs": [
    {
     "data": {
      "text/plain": [
       "array([[1., 0., 0., 0., 0., 0., 0., 0., 0., 0.],\n",
       "       [0., 1., 0., 0., 0., 0., 0., 0., 0., 0.],\n",
       "       [0., 0., 1., 0., 0., 0., 0., 0., 0., 0.],\n",
       "       [0., 0., 0., 1., 0., 0., 0., 0., 0., 0.],\n",
       "       [0., 0., 0., 0., 1., 0., 0., 0., 0., 0.],\n",
       "       [0., 0., 0., 0., 0., 1., 0., 0., 0., 0.],\n",
       "       [0., 0., 0., 0., 0., 0., 1., 0., 0., 0.],\n",
       "       [0., 0., 0., 0., 0., 0., 0., 1., 0., 0.],\n",
       "       [0., 0., 0., 0., 0., 0., 0., 0., 1., 0.],\n",
       "       [0., 0., 0., 0., 0., 0., 0., 0., 0., 1.]])"
      ]
     },
     "execution_count": 51,
     "metadata": {},
     "output_type": "execute_result"
    }
   ],
   "source": [
    "np.identity(10)"
   ]
  },
  {
   "cell_type": "code",
   "execution_count": 52,
   "id": "ca3890c8-2edd-4b83-9608-2ceca7bb3272",
   "metadata": {},
   "outputs": [
    {
     "data": {
      "text/plain": [
       "array([1, 1, 1, 2, 2, 2, 3, 3, 3], dtype=int16)"
      ]
     },
     "execution_count": 52,
     "metadata": {},
     "output_type": "execute_result"
    }
   ],
   "source": [
    "r1 = np.repeat(a,3)\n",
    "r1"
   ]
  },
  {
   "cell_type": "code",
   "execution_count": 53,
   "id": "b0537363-8e5b-4a11-99f4-095af7861fc5",
   "metadata": {},
   "outputs": [
    {
     "data": {
      "text/plain": [
       "array([[[1. , 2. , 3. ],\n",
       "        [3.1, 2.3, 1.2]],\n",
       "\n",
       "       [[1. , 2. , 3. ],\n",
       "        [3.1, 2.3, 1.2]],\n",
       "\n",
       "       [[1. , 2. , 3. ],\n",
       "        [3.1, 2.3, 1.2]],\n",
       "\n",
       "       [[1. , 2. , 3. ],\n",
       "        [3.1, 2.3, 1.2]],\n",
       "\n",
       "       [[1. , 2. , 3. ],\n",
       "        [3.1, 2.3, 1.2]],\n",
       "\n",
       "       [[1. , 2. , 3. ],\n",
       "        [3.1, 2.3, 1.2]]])"
      ]
     },
     "execution_count": 53,
     "metadata": {},
     "output_type": "execute_result"
    }
   ],
   "source": [
    "r1 = np.repeat(c,3,axis=0)\n",
    "r1"
   ]
  },
  {
   "cell_type": "code",
   "execution_count": 54,
   "id": "a965520b-9b68-4c03-9f6c-7bb81cb2bdd5",
   "metadata": {},
   "outputs": [
    {
     "data": {
      "text/plain": [
       "array([[1., 1., 1., 1., 1.],\n",
       "       [1., 0., 0., 0., 1.],\n",
       "       [1., 0., 9., 0., 1.],\n",
       "       [1., 0., 0., 0., 1.],\n",
       "       [1., 1., 1., 1., 1.]])"
      ]
     },
     "execution_count": 54,
     "metadata": {},
     "output_type": "execute_result"
    }
   ],
   "source": [
    "k = np.ones((5,5))\n",
    "k[1:4,1:4] = 0\n",
    "k[2,2] = 9\n",
    "k"
   ]
  },
  {
   "cell_type": "code",
   "execution_count": 55,
   "id": "577c5541-1349-4bc6-b0f1-e26e322f3e2a",
   "metadata": {},
   "outputs": [
    {
     "data": {
      "text/plain": [
       "(array([10,  2,  3], dtype=int16), array([1, 2, 3], dtype=int16))"
      ]
     },
     "execution_count": 55,
     "metadata": {},
     "output_type": "execute_result"
    }
   ],
   "source": [
    "a = np.array([1,2,3],dtype='int16')\n",
    "b = a.copy()\n",
    "b[0] = 10\n",
    "b,a"
   ]
  },
  {
   "cell_type": "markdown",
   "id": "295450b1-7a60-4b8e-9bbd-629aa891a571",
   "metadata": {},
   "source": [
    "#######MATHEMATICS!!!!!!!!\n"
   ]
  },
  {
   "cell_type": "code",
   "execution_count": 56,
   "id": "763812e2-1910-448e-8fad-0cb012b3c894",
   "metadata": {},
   "outputs": [],
   "source": [
    "a = np.array([1,2,3,4,5,6,7,8],dtype='int8')"
   ]
  },
  {
   "cell_type": "code",
   "execution_count": 57,
   "id": "34c40dd9-2a49-4ac9-a4c8-73155a39138a",
   "metadata": {},
   "outputs": [
    {
     "data": {
      "text/plain": [
       "(array([ 3,  4,  5,  6,  7,  8,  9, 10], dtype=int8),\n",
       " array([-1,  0,  1,  2,  3,  4,  5,  6], dtype=int8),\n",
       " array([ 2,  4,  6,  8, 10, 12, 14, 16], dtype=int8),\n",
       " array([0.5, 1. , 1.5, 2. , 2.5, 3. , 3.5, 4. ]),\n",
       " array([1, 0, 1, 0, 1, 0, 1, 0], dtype=int8),\n",
       " array([0, 1, 1, 2, 2, 3, 3, 4], dtype=int8))"
      ]
     },
     "execution_count": 57,
     "metadata": {},
     "output_type": "execute_result"
    }
   ],
   "source": [
    "a+2,a-2,a*2,a/2,a%2,a//2"
   ]
  },
  {
   "cell_type": "code",
   "execution_count": 58,
   "id": "e667b7ea-b46e-472f-9ac7-64bd4a54b3db",
   "metadata": {},
   "outputs": [
    {
     "data": {
      "text/plain": [
       "array([ 3,  4,  5,  6,  7,  8,  9, 10], dtype=int8)"
      ]
     },
     "execution_count": 58,
     "metadata": {},
     "output_type": "execute_result"
    }
   ],
   "source": [
    "a += 2\n",
    "a"
   ]
  },
  {
   "cell_type": "code",
   "execution_count": 59,
   "id": "56459fbb-3242-4b96-9510-a5c737fa2a7c",
   "metadata": {},
   "outputs": [
    {
     "data": {
      "text/plain": [
       "array([ 4,  6,  8, 10, 12, 14, 16, 18])"
      ]
     },
     "execution_count": 59,
     "metadata": {},
     "output_type": "execute_result"
    }
   ],
   "source": [
    "b = np.array([1,2,3,4,5,6,7,8])\n",
    "a+b"
   ]
  },
  {
   "cell_type": "code",
   "execution_count": 60,
   "id": "096522b9-be8e-492a-aac1-778f9548822b",
   "metadata": {},
   "outputs": [
    {
     "data": {
      "text/plain": [
       "array([  9,  16,  25,  36,  49,  64,  81, 100], dtype=int8)"
      ]
     },
     "execution_count": 60,
     "metadata": {},
     "output_type": "execute_result"
    }
   ],
   "source": [
    "a ** 2"
   ]
  },
  {
   "cell_type": "code",
   "execution_count": 61,
   "id": "6f23d5c6-4f91-423c-8279-1fbd56c8c518",
   "metadata": {},
   "outputs": [
    {
     "data": {
      "text/plain": [
       "array([ 0.1411, -0.757 , -0.959 , -0.2793,  0.657 ,  0.9893,  0.412 ,\n",
       "       -0.544 ], dtype=float16)"
      ]
     },
     "execution_count": 61,
     "metadata": {},
     "output_type": "execute_result"
    }
   ],
   "source": [
    "np.sin(a)"
   ]
  },
  {
   "cell_type": "code",
   "execution_count": 62,
   "id": "02c86b5b-adbf-4000-8d46-760b3c0f3331",
   "metadata": {},
   "outputs": [
    {
     "data": {
      "text/plain": [
       "array([-0.99  , -0.654 ,  0.2837,  0.96  ,  0.754 , -0.1455, -0.911 ,\n",
       "       -0.839 ], dtype=float16)"
      ]
     },
     "execution_count": 62,
     "metadata": {},
     "output_type": "execute_result"
    }
   ],
   "source": [
    "np.cos(a)"
   ]
  },
  {
   "cell_type": "markdown",
   "id": "404380ef-1a33-40a3-9179-65a1228fcc68",
   "metadata": {},
   "source": [
    "######linear algebra!!!!!"
   ]
  },
  {
   "cell_type": "code",
   "execution_count": 63,
   "id": "7e97eb38-5ae3-46c6-acc2-6539cb49e3a7",
   "metadata": {},
   "outputs": [
    {
     "data": {
      "text/plain": [
       "array([[2, 2, 2],\n",
       "       [2, 2, 2]])"
      ]
     },
     "execution_count": 63,
     "metadata": {},
     "output_type": "execute_result"
    }
   ],
   "source": [
    "a = np.full((2,3),2)\n",
    "a"
   ]
  },
  {
   "cell_type": "code",
   "execution_count": 64,
   "id": "b033ce9b-17de-4a4e-8385-aaa34a651c27",
   "metadata": {},
   "outputs": [
    {
     "data": {
      "text/plain": [
       "array([[3, 3],\n",
       "       [3, 3],\n",
       "       [3, 3]])"
      ]
     },
     "execution_count": 64,
     "metadata": {},
     "output_type": "execute_result"
    }
   ],
   "source": [
    "b = np.full((3,2),3)\n",
    "b"
   ]
  },
  {
   "cell_type": "code",
   "execution_count": 65,
   "id": "11c987f6-5be7-4175-827e-80399c81efb0",
   "metadata": {},
   "outputs": [
    {
     "data": {
      "text/plain": [
       "array([[18, 18],\n",
       "       [18, 18]])"
      ]
     },
     "execution_count": 65,
     "metadata": {},
     "output_type": "execute_result"
    }
   ],
   "source": [
    "np.matmul(a,b)"
   ]
  },
  {
   "cell_type": "code",
   "execution_count": 66,
   "id": "51f751fd-82e7-4cb6-bf4b-507b82b95225",
   "metadata": {},
   "outputs": [
    {
     "data": {
      "text/plain": [
       "1.0"
      ]
     },
     "execution_count": 66,
     "metadata": {},
     "output_type": "execute_result"
    }
   ],
   "source": [
    "c = np.identity(3)\n",
    "np.linalg.det(c)"
   ]
  },
  {
   "cell_type": "code",
   "execution_count": 67,
   "id": "5e1ad7e7-f714-4ee9-81bc-45a36c503f83",
   "metadata": {},
   "outputs": [
    {
     "data": {
      "text/plain": [
       "array([[1., 0., 0.],\n",
       "       [0., 1., 0.],\n",
       "       [0., 0., 1.]])"
      ]
     },
     "execution_count": 67,
     "metadata": {},
     "output_type": "execute_result"
    }
   ],
   "source": [
    "d = np.linalg.inv(c)\n",
    "d"
   ]
  },
  {
   "cell_type": "code",
   "execution_count": 68,
   "id": "22eb61a2-dd7a-4694-b413-7c5c06d1ff95",
   "metadata": {},
   "outputs": [
    {
     "data": {
      "text/plain": [
       "(array([1., 1., 1.]),\n",
       " array([[1., 0., 0.],\n",
       "        [0., 1., 0.],\n",
       "        [0., 0., 1.]]))"
      ]
     },
     "execution_count": 68,
     "metadata": {},
     "output_type": "execute_result"
    }
   ],
   "source": [
    "eigenvalues, eigenvectors = np.linalg.eig(c)\n",
    "\n",
    "eigenvalues, eigenvectors"
   ]
  },
  {
   "cell_type": "markdown",
   "id": "29af8000-23db-480b-9bfb-c19d9887e683",
   "metadata": {},
   "source": [
    "###Statistics!!!"
   ]
  },
  {
   "cell_type": "code",
   "execution_count": 69,
   "id": "95efdff9-bff2-4dcd-a5fb-a2ed152e4a7d",
   "metadata": {},
   "outputs": [
    {
     "data": {
      "text/plain": [
       "array([[1, 2, 3],\n",
       "       [4, 5, 6]])"
      ]
     },
     "execution_count": 69,
     "metadata": {},
     "output_type": "execute_result"
    }
   ],
   "source": [
    "stats = np.array([[1,2,3],[4,5,6]])\n",
    "stats"
   ]
  },
  {
   "cell_type": "code",
   "execution_count": 70,
   "id": "d983727e-c4c9-4fd7-bf97-320d70317b6a",
   "metadata": {},
   "outputs": [
    {
     "data": {
      "text/plain": [
       "1"
      ]
     },
     "execution_count": 70,
     "metadata": {},
     "output_type": "execute_result"
    }
   ],
   "source": [
    "np.min(stats)"
   ]
  },
  {
   "cell_type": "code",
   "execution_count": 71,
   "id": "8427bc69-1e9d-4ccb-980b-71fe74e60512",
   "metadata": {},
   "outputs": [
    {
     "data": {
      "text/plain": [
       "6"
      ]
     },
     "execution_count": 71,
     "metadata": {},
     "output_type": "execute_result"
    }
   ],
   "source": [
    "np.max(stats)"
   ]
  },
  {
   "cell_type": "code",
   "execution_count": 72,
   "id": "7f22ea01-df81-4b6b-a76b-7e29dd856b11",
   "metadata": {},
   "outputs": [
    {
     "data": {
      "text/plain": [
       "array([1, 4])"
      ]
     },
     "execution_count": 72,
     "metadata": {},
     "output_type": "execute_result"
    }
   ],
   "source": [
    "np.min(stats,axis=1)"
   ]
  },
  {
   "cell_type": "code",
   "execution_count": 73,
   "id": "520ba93d-cee0-41fa-a999-4790fea8a812",
   "metadata": {},
   "outputs": [
    {
     "data": {
      "text/plain": [
       "array([3, 6])"
      ]
     },
     "execution_count": 73,
     "metadata": {},
     "output_type": "execute_result"
    }
   ],
   "source": [
    "np.max(stats,axis=1)"
   ]
  },
  {
   "cell_type": "code",
   "execution_count": 74,
   "id": "5618647c-696b-4c54-b550-0cb2fb5b9616",
   "metadata": {},
   "outputs": [
    {
     "data": {
      "text/plain": [
       "21"
      ]
     },
     "execution_count": 74,
     "metadata": {},
     "output_type": "execute_result"
    }
   ],
   "source": [
    "np.sum(stats)"
   ]
  },
  {
   "cell_type": "code",
   "execution_count": 75,
   "id": "325b6a5e-1daf-4891-bf63-7380e54ce01d",
   "metadata": {},
   "outputs": [
    {
     "data": {
      "text/plain": [
       "array([ 6, 15])"
      ]
     },
     "execution_count": 75,
     "metadata": {},
     "output_type": "execute_result"
    }
   ],
   "source": [
    "np.sum(stats,axis=1)"
   ]
  },
  {
   "cell_type": "code",
   "execution_count": 76,
   "id": "6442e73c-0c0c-496e-a122-24c346ad4238",
   "metadata": {},
   "outputs": [
    {
     "data": {
      "text/plain": [
       "(array([[ 1,  2,  3,  4,  5,  6,  7],\n",
       "        [ 8,  9, 10, 11, 12, 13, 14]]),\n",
       " array([[ 1,  2,  3,  4,  5,  6,  7,  8,  9, 10, 11, 12, 13, 14]]))"
      ]
     },
     "execution_count": 76,
     "metadata": {},
     "output_type": "execute_result"
    }
   ],
   "source": [
    "a = np.array([[1,2,3,4,5,6,7],[8,9,10,11,12,13,14]])\n",
    "c = a.copy()\n",
    "b = a.reshape((1,14))\n",
    "a,b"
   ]
  },
  {
   "cell_type": "code",
   "execution_count": 77,
   "id": "22781ba6-1d40-4ded-9370-56379b9ec812",
   "metadata": {},
   "outputs": [
    {
     "data": {
      "text/plain": [
       "array([[ 1,  2,  3,  4,  5,  6,  7],\n",
       "       [ 8,  9, 10, 11, 12, 13, 14],\n",
       "       [ 1,  2,  3,  4,  5,  6,  7],\n",
       "       [ 8,  9, 10, 11, 12, 13, 14]])"
      ]
     },
     "execution_count": 77,
     "metadata": {},
     "output_type": "execute_result"
    }
   ],
   "source": [
    "np.vstack((a,c))"
   ]
  },
  {
   "cell_type": "code",
   "execution_count": 82,
   "id": "0a147009-666c-4c30-8188-479f2bc2952e",
   "metadata": {},
   "outputs": [
    {
     "data": {
      "text/plain": [
       "(array([[ 1,  2,  3,  4,  5,  6,  7],\n",
       "        [ 8,  9, 10, 11, 12, 13, 14]]),\n",
       " array([[ 1,  2,  3,  4,  5,  6,  7],\n",
       "        [ 8,  9, 10, 11, 12, 13, 14]]))"
      ]
     },
     "execution_count": 82,
     "metadata": {},
     "output_type": "execute_result"
    }
   ],
   "source": [
    "a,c"
   ]
  },
  {
   "cell_type": "code",
   "execution_count": 85,
   "id": "b88df5d3-b430-4f62-af4c-d0263d87ba5a",
   "metadata": {},
   "outputs": [],
   "source": [
    "c = np.random.rand(2,7)"
   ]
  },
  {
   "cell_type": "code",
   "execution_count": 86,
   "id": "67aba6aa-8f12-44c0-a146-e463ae13a5f5",
   "metadata": {},
   "outputs": [
    {
     "data": {
      "text/plain": [
       "array([[ 1.        ,  2.        ,  3.        ,  4.        ,  5.        ,\n",
       "         6.        ,  7.        ,  0.48166446,  0.74607282,  0.38969943,\n",
       "         0.9432818 ,  0.0693006 ,  0.16671586,  0.27004886],\n",
       "       [ 8.        ,  9.        , 10.        , 11.        , 12.        ,\n",
       "        13.        , 14.        ,  0.77968102,  0.60701333,  0.99373329,\n",
       "         0.69824803,  0.5107965 ,  0.48076265,  0.29829559]])"
      ]
     },
     "execution_count": 86,
     "metadata": {},
     "output_type": "execute_result"
    }
   ],
   "source": [
    "np.hstack((a,c))"
   ]
  },
  {
   "cell_type": "code",
   "execution_count": 92,
   "id": "7af6729e-7da1-4baf-86c8-df7d22ae783f",
   "metadata": {},
   "outputs": [
    {
     "data": {
      "text/plain": [
       "array([[ 1,  2,  3,  4,  5,  6,  7,  8,  9, 10],\n",
       "       [ 1,  2,  3,  4,  5,  6,  7,  8,  9, 10]], dtype=int8)"
      ]
     },
     "execution_count": 92,
     "metadata": {},
     "output_type": "execute_result"
    }
   ],
   "source": [
    "file_data = np.genfromtxt('example.txt',delimiter=',',dtype='int8')\n",
    "file_data"
   ]
  },
  {
   "cell_type": "code",
   "execution_count": 95,
   "id": "d9e42b8b-c67d-4707-bce1-3e7e28e20324",
   "metadata": {},
   "outputs": [
    {
     "data": {
      "text/plain": [
       "array([[ 1,  2,  3,  4,  5,  6,  7,  8,  9, 10],\n",
       "       [ 1,  2,  3,  4,  5,  6,  7,  8,  9, 10]], dtype=int16)"
      ]
     },
     "execution_count": 95,
     "metadata": {},
     "output_type": "execute_result"
    }
   ],
   "source": [
    "file_data = file_data.astype('int16')\n",
    "file_data"
   ]
  },
  {
   "cell_type": "code",
   "execution_count": 98,
   "id": "db3675a9-94ba-4180-a62c-c92db639535e",
   "metadata": {},
   "outputs": [
    {
     "data": {
      "text/plain": [
       "array([[False, False, False, False, False, False, False, False,  True,\n",
       "         True],\n",
       "       [False, False, False, False, False, False, False, False,  True,\n",
       "         True]])"
      ]
     },
     "execution_count": 98,
     "metadata": {},
     "output_type": "execute_result"
    }
   ],
   "source": [
    "file_data > 8"
   ]
  },
  {
   "cell_type": "code",
   "execution_count": 99,
   "id": "7438a4fa-e158-4691-be82-4942fe97d9f5",
   "metadata": {},
   "outputs": [
    {
     "data": {
      "text/plain": [
       "array([ 9, 10,  9, 10], dtype=int16)"
      ]
     },
     "execution_count": 99,
     "metadata": {},
     "output_type": "execute_result"
    }
   ],
   "source": [
    "file_data[file_data > 8]"
   ]
  },
  {
   "cell_type": "code",
   "execution_count": 103,
   "id": "ba029da6-6d04-4a6c-8b01-a11b4fd97ec9",
   "metadata": {},
   "outputs": [
    {
     "data": {
      "text/plain": [
       "array([[ 1,  2,  3,  4,  5,  6,  7,  8,  9, 10],\n",
       "       [ 1,  2,  3,  4,  5,  6,  7,  8,  9, 10]], dtype=int16)"
      ]
     },
     "execution_count": 103,
     "metadata": {},
     "output_type": "execute_result"
    }
   ],
   "source": [
    "file_data[[0,1]]"
   ]
  },
  {
   "cell_type": "code",
   "execution_count": 106,
   "id": "753023e4-28c6-4faf-994b-49f872a2fcac",
   "metadata": {},
   "outputs": [
    {
     "data": {
      "text/plain": [
       "array([1, 2, 3, 4, 5, 8, 9])"
      ]
     },
     "execution_count": 106,
     "metadata": {},
     "output_type": "execute_result"
    }
   ],
   "source": [
    "a = np.array([1,2,3,4,5,6,7,8,9])\n",
    "a[[0,1,2,3,4,7,8]]"
   ]
  },
  {
   "cell_type": "code",
   "execution_count": 120,
   "id": "30040145-9e79-4f73-9793-9933fdefcf3a",
   "metadata": {},
   "outputs": [
    {
     "data": {
      "text/plain": [
       "array([False, False, False, False, False, False, False, False, False,\n",
       "        True])"
      ]
     },
     "execution_count": 120,
     "metadata": {},
     "output_type": "execute_result"
    }
   ],
   "source": [
    "np.any(file_data > 9,axis=0)"
   ]
  },
  {
   "cell_type": "code",
   "execution_count": 123,
   "id": "a7989d1c-f20e-45e4-8f01-a7f9dea54a1f",
   "metadata": {},
   "outputs": [
    {
     "data": {
      "text/plain": [
       "array([[ 1,  2,  3,  4,  5,  6,  7,  8,  9, 10],\n",
       "       [ 1,  2,  3,  4,  5,  6,  7,  8,  9, 10]], dtype=int16)"
      ]
     },
     "execution_count": 123,
     "metadata": {},
     "output_type": "execute_result"
    }
   ],
   "source": [
    "file_data"
   ]
  },
  {
   "cell_type": "code",
   "execution_count": 122,
   "id": "686ed8a1-df2c-4b55-adf1-09276fb9be8a",
   "metadata": {},
   "outputs": [
    {
     "data": {
      "text/plain": [
       "array([False, False])"
      ]
     },
     "execution_count": 122,
     "metadata": {},
     "output_type": "execute_result"
    }
   ],
   "source": [
    "np.all(file_data > 9,axis=1)"
   ]
  },
  {
   "cell_type": "code",
   "execution_count": 125,
   "id": "3b7bb772-2ef0-4772-b3db-1b8b4c77d2c1",
   "metadata": {},
   "outputs": [
    {
     "data": {
      "text/plain": [
       "array([[False, False,  True,  True,  True, False, False, False, False,\n",
       "        False],\n",
       "       [False, False,  True,  True,  True, False, False, False, False,\n",
       "        False]])"
      ]
     },
     "execution_count": 125,
     "metadata": {},
     "output_type": "execute_result"
    }
   ],
   "source": [
    "((file_data > 2) & (file_data < 6))"
   ]
  },
  {
   "cell_type": "code",
   "execution_count": 126,
   "id": "99f532eb-4d80-44d6-a92f-acb6bf9d4fd1",
   "metadata": {},
   "outputs": [
    {
     "data": {
      "text/plain": [
       "array([3, 4, 5, 3, 4, 5], dtype=int16)"
      ]
     },
     "execution_count": 126,
     "metadata": {},
     "output_type": "execute_result"
    }
   ],
   "source": [
    "file_data[((file_data > 2) & (file_data < 6))]"
   ]
  },
  {
   "cell_type": "code",
   "execution_count": 128,
   "id": "7fb63111-954d-4761-a227-2559d76eb708",
   "metadata": {},
   "outputs": [
    {
     "data": {
      "text/plain": [
       "True"
      ]
     },
     "execution_count": 128,
     "metadata": {},
     "output_type": "execute_result"
    }
   ],
   "source": [
    "a = np.ones(2)\n",
    "np.all(a > 0)"
   ]
  },
  {
   "cell_type": "code",
   "execution_count": 129,
   "id": "0b2261ff-eb2a-4593-841c-dc627d4ed07e",
   "metadata": {},
   "outputs": [
    {
     "data": {
      "text/plain": [
       "array([ 1,  2,  6,  7,  8,  9, 10,  1,  2,  6,  7,  8,  9, 10],\n",
       "      dtype=int16)"
      ]
     },
     "execution_count": 129,
     "metadata": {},
     "output_type": "execute_result"
    }
   ],
   "source": [
    "file_data[~((file_data > 2) & (file_data < 6))]"
   ]
  },
  {
   "cell_type": "code",
   "execution_count": null,
   "id": "120b2250-8248-4566-8bd2-8532bcce23d3",
   "metadata": {},
   "outputs": [],
   "source": [
    "a = np.array()"
   ]
  },
  {
   "cell_type": "code",
   "execution_count": 132,
   "id": "88ad1dfe-af06-42f5-aef6-1973cb4cd46a",
   "metadata": {},
   "outputs": [
    {
     "data": {
      "text/plain": [
       "array([[ 1,  2,  3,  4,  5],\n",
       "       [ 6,  7,  8,  9, 10],\n",
       "       [11, 12, 13, 14, 15],\n",
       "       [16, 17, 18, 19, 20],\n",
       "       [21, 22, 23, 24, 25],\n",
       "       [26, 27, 28, 29, 30]])"
      ]
     },
     "execution_count": 132,
     "metadata": {},
     "output_type": "execute_result"
    }
   ],
   "source": [
    "a = np.arange(1,31)\n",
    "a = a.reshape(6,5)\n",
    "a"
   ]
  },
  {
   "cell_type": "code",
   "execution_count": 133,
   "id": "d2cb200c-07a9-4bbe-9eaa-95dd2f24ab76",
   "metadata": {},
   "outputs": [
    {
     "data": {
      "text/plain": [
       "array([[11, 12],\n",
       "       [16, 17]])"
      ]
     },
     "execution_count": 133,
     "metadata": {},
     "output_type": "execute_result"
    }
   ],
   "source": [
    "a[2:4,0:2]"
   ]
  },
  {
   "cell_type": "code",
   "execution_count": 134,
   "id": "96dbc03d-519d-46d2-b555-0b6cd49429d3",
   "metadata": {},
   "outputs": [
    {
     "data": {
      "text/plain": [
       "array([ 2,  8, 14, 20])"
      ]
     },
     "execution_count": 134,
     "metadata": {},
     "output_type": "execute_result"
    }
   ],
   "source": [
    "a[[0,1,2,3],[1,2,3,4]]"
   ]
  },
  {
   "cell_type": "code",
   "execution_count": 137,
   "id": "835b6e51-c24f-416c-ab7c-7c4afb3a1f84",
   "metadata": {},
   "outputs": [
    {
     "data": {
      "text/plain": [
       "array([], shape=(0, 0), dtype=int32)"
      ]
     },
     "execution_count": 137,
     "metadata": {},
     "output_type": "execute_result"
    }
   ],
   "source": [
    "a[[]]"
   ]
  }
 ],
 "metadata": {
  "kernelspec": {
   "display_name": "Python 3 (ipykernel)",
   "language": "python",
   "name": "python3"
  },
  "language_info": {
   "codemirror_mode": {
    "name": "ipython",
    "version": 3
   },
   "file_extension": ".py",
   "mimetype": "text/x-python",
   "name": "python",
   "nbconvert_exporter": "python",
   "pygments_lexer": "ipython3",
   "version": "3.11.4"
  }
 },
 "nbformat": 4,
 "nbformat_minor": 5
}
